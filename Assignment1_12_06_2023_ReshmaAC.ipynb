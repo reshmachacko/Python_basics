{
 "cells": [
  {
   "cell_type": "markdown",
   "id": "d48fa425",
   "metadata": {},
   "source": [
    "## <center> ASSIGNMENT 1"
   ]
  },
  {
   "cell_type": "markdown",
   "id": "6e90523e",
   "metadata": {},
   "source": [
    "###  1. WRITE A PYTHON PROGRAM TO ADD TWO MATRICES USING NESTED FOR LOOP \n",
    "X=[[1,2,3], [4,5,6], [2,4,6]] \n",
    "\n",
    "Y=[[1,4,5], [3,6,9], [2,3,5]] \n"
   ]
  },
  {
   "cell_type": "code",
   "execution_count": 1,
   "id": "cfd52a71",
   "metadata": {},
   "outputs": [
    {
     "name": "stdout",
     "output_type": "stream",
     "text": [
      "[[2, 6, 8], [7, 11, 15], [4, 7, 11]]\n"
     ]
    }
   ],
   "source": [
    "X=[[1,2,3], [4,5,6], [2,4,6]]\n",
    "\n",
    "Y=[[1,4,5], [3,6,9], [2,3,5]]\n",
    " \n",
    "S=[[0,0,0],[0,0,0],[0,0,0]]\n",
    "\n",
    "for i in range(len(X)):\n",
    "    for j in range(len(X[0])):\n",
    "        S[i][j]=X[i][j]+Y[i][j]\n",
    "print(S)"
   ]
  },
  {
   "cell_type": "markdown",
   "id": "6083a35c",
   "metadata": {},
   "source": [
    "### 2.WRITE A PYTHON PROGRAM TO TRANSPOSE TWO MATRICES USING NESTED FOR LOOP \n",
    "X=[[1,4,7], [2,3,5], [2,4,6]] \n",
    "\n",
    "Y=[[1,4,5], [3,6,9], [2,3,5]] \n"
   ]
  },
  {
   "cell_type": "code",
   "execution_count": 2,
   "id": "2136a71c",
   "metadata": {},
   "outputs": [
    {
     "name": "stdout",
     "output_type": "stream",
     "text": [
      "[[1, 2, 2], [2, 3, 4], [2, 4, 6]]\n",
      "[[1, 3, 2], [3, 6, 3], [2, 3, 5]]\n"
     ]
    }
   ],
   "source": [
    "X=[[1,4,7], [2,3,5], [2,4,6]]\n",
    "\n",
    "Y=[[1,4,5], [3,6,9], [2,3,5]]\n",
    "\n",
    "\n",
    "for i in range(len(X)):\n",
    "    for j in range(len(X[0])):\n",
    "        X[i][j]=X[j][i]\n",
    "        Y[i][j]=Y[j][i] \n",
    "print(X)\n",
    "print(Y)"
   ]
  },
  {
   "cell_type": "markdown",
   "id": "e892a99e",
   "metadata": {},
   "source": [
    "### 3. WRITE A PYTHON PROGRAM TO MULTIPLY TWO MATRICES USING NESTED FOR LOOP \n",
    "X=[[1,2,3], [4,5,6], [2,4,6]] \n",
    "\n",
    "Y=[[1,4,5,2], [3,6,9,5], [2,3,5,1]] \n"
   ]
  },
  {
   "cell_type": "code",
   "execution_count": 3,
   "id": "9cd55b85",
   "metadata": {},
   "outputs": [
    {
     "name": "stdout",
     "output_type": "stream",
     "text": [
      "[[13, 25, 38, 15], [31, 64, 95, 39], [26, 50, 76, 30]]\n"
     ]
    }
   ],
   "source": [
    "X=[[1,2,3], [4,5,6], [2,4,6]]\n",
    "\n",
    "Y=[[1,4,5,2], [3,6,9,5], [2,3,5,1]]\n",
    "\n",
    "A=[[0,0,0,0],[0,0,0,0],[0,0,0,0]]\n",
    "\n",
    "if len(X[0])==len(Y):\n",
    "    for i in range(len(X)):\n",
    "        for j in range(len(Y)):\n",
    "            for k in range(len(Y[0])):\n",
    "                A[i][k]+=X[i][j]*Y[j][k]\n",
    "                \n",
    "    print(A)\n",
    "else:\n",
    "    print('Multiplication not possible')"
   ]
  },
  {
   "cell_type": "markdown",
   "id": "e6c4739f",
   "metadata": {},
   "source": [
    "### 4.Python program to convert the temperature in degree centigrade to Fahrenheit "
   ]
  },
  {
   "cell_type": "code",
   "execution_count": 4,
   "id": "68f10e01",
   "metadata": {},
   "outputs": [
    {
     "name": "stdout",
     "output_type": "stream",
     "text": [
      "Enter temperature in degree celcius:100\n",
      "Temperature in Fahrenheit: 212.0\n"
     ]
    }
   ],
   "source": [
    "a=float(input(\"Enter temperature in degree celcius:\"))\n",
    "fahren=(a*(9/5))+32\n",
    "print(\"Temperature in Fahrenheit:\",fahren)"
   ]
  },
  {
   "cell_type": "markdown",
   "id": "6642d259",
   "metadata": {},
   "source": [
    "### 5.Python program to find the sum of the digits of an integer using a while loop \n"
   ]
  },
  {
   "cell_type": "code",
   "execution_count": 5,
   "id": "6c205c5b",
   "metadata": {},
   "outputs": [
    {
     "name": "stdout",
     "output_type": "stream",
     "text": [
      "Enter a number:16743\n",
      "21\n"
     ]
    }
   ],
   "source": [
    "n=int(input(\"Enter a number:\"))\n",
    "s=0\n",
    "while n>0:\n",
    "    rem=n%10\n",
    "    s+=rem\n",
    "    n=n//10\n",
    "print(s)\n",
    "    "
   ]
  },
  {
   "cell_type": "markdown",
   "id": "4df77d86",
   "metadata": {},
   "source": [
    "### 6. Make a two-player Rock-Paper-Scissors game. (Hint: Ask for player plays (using input), compare them, print out a message of congratulations to the winner, and ask if the players want to start a new game)"
   ]
  },
  {
   "cell_type": "code",
   "execution_count": 10,
   "id": "bd267dc8",
   "metadata": {},
   "outputs": [
    {
     "name": "stdout",
     "output_type": "stream",
     "text": [
      "Enter any of Rock/Paper/Scissor:rock\n",
      "Enter any of Rock/Paper/Scissor:scissor\n",
      "P1 wins , Congratulation!\n",
      "Do you want to start a new game?\n"
     ]
    }
   ],
   "source": [
    "P1=input(\"Enter any of Rock/Paper/Scissor:\")\n",
    "P2=input(\"Enter any of Rock/Paper/Scissor:\")\n",
    " \n",
    "p1=P1.upper()\n",
    "p2=P2.upper()\n",
    "if (p1=='ROCK' and p2=='PAPER') or (p1=='SCISSOR' and p2=='ROCK') or(p1=='PAPER' and p2=='Scissor'):\n",
    "        print('P2 wins , Congratulation!')\n",
    "    \n",
    "elif p1==p2:\n",
    "    print('It is a tie!')\n",
    "    \n",
    "elif (p1=='ROCK' and p2=='SCISSOR') or (p1=='PAPER' and p2=='ROCK') or(p1=='SCISSOR' and p2=='PAPER'):\n",
    "    print('P1 wins , Congratulation!')\n",
    "\n",
    "print(\"Do you want to start a new game?\")\n"
   ]
  },
  {
   "cell_type": "code",
   "execution_count": 11,
   "id": "d1883eb0",
   "metadata": {},
   "outputs": [
    {
     "name": "stdout",
     "output_type": "stream",
     "text": [
      "Enter any of Rock/Paper/Scissor:rock\n",
      "Enter any of Rock/Paper/Scissor:scissor\n"
     ]
    },
    {
     "ename": "SyntaxError",
     "evalue": "'continue' not properly in loop (886087595.py, line 11)",
     "output_type": "error",
     "traceback": [
      "\u001b[1;36m  File \u001b[1;32m\"C:\\Users\\USER\\AppData\\Local\\Temp\\ipykernel_5272\\886087595.py\"\u001b[1;36m, line \u001b[1;32m11\u001b[0m\n\u001b[1;33m    continue\u001b[0m\n\u001b[1;37m    ^\u001b[0m\n\u001b[1;31mSyntaxError\u001b[0m\u001b[1;31m:\u001b[0m 'continue' not properly in loop\n"
     ]
    }
   ],
   "source": [
    "P1=input(\"Enter any of Rock/Paper/Scissor:\")\n",
    "P2=input(\"Enter any of Rock/Paper/Scissor:\")\n",
    " \n",
    "p1=P1.upper()\n",
    "p2=P2.upper()\n",
    "if (p1=='ROCK' and p2=='PAPER') or (p1=='SCISSOR' and p2=='ROCK') or(p1=='PAPER' and p2=='Scissor'):\n",
    "    print('P2 wins , Congratulation!')\n",
    "    x=input(\"Do you want to start a new game?yes/no\")\n",
    "    a=x.upper()\n",
    "    if a==\"YES\":\n",
    "        continue\n",
    "    elif a==\"NO\":\n",
    "        break     \n",
    "    \n",
    "elif p1==p2:\n",
    "    print('It is a tie!')\n",
    "    x=input(\"Do you want to start a new game?yes/no\")\n",
    "    a=x.upper()\n",
    "    if a==\"YES\":\n",
    "        continue\n",
    "    elif a==\"NO\":\n",
    "        break     \n",
    "    \n",
    "elif (p1=='ROCK' and p2=='SCISSOR') or (p1=='PAPER' and p2=='ROCK') or(p1=='SCISSOR' and p2=='PAPER'):\n",
    "    print('P1 wins , Congratulation!')\n",
    "    x=input(\"Do you want to start a new game?yes/no\")\n",
    "    a=x.upper()\n",
    "    if a==\"YES\":\n",
    "        continue\n",
    "    elif a==\"NO\":\n",
    "        break     \n",
    "    \n"
   ]
  },
  {
   "cell_type": "code",
   "execution_count": null,
   "id": "7cad1f8a",
   "metadata": {},
   "outputs": [],
   "source": []
  }
 ],
 "metadata": {
  "kernelspec": {
   "display_name": "Python 3 (ipykernel)",
   "language": "python",
   "name": "python3"
  },
  "language_info": {
   "codemirror_mode": {
    "name": "ipython",
    "version": 3
   },
   "file_extension": ".py",
   "mimetype": "text/x-python",
   "name": "python",
   "nbconvert_exporter": "python",
   "pygments_lexer": "ipython3",
   "version": "3.9.13"
  }
 },
 "nbformat": 4,
 "nbformat_minor": 5
}
