{
 "cells": [
  {
   "cell_type": "code",
   "execution_count": 1,
   "id": "c1a58050",
   "metadata": {},
   "outputs": [
    {
     "name": "stdout",
     "output_type": "stream",
     "text": [
      "Hello World!\n"
     ]
    }
   ],
   "source": [
    "a=\"Hello World!\"\n",
    "print(a)"
   ]
  },
  {
   "cell_type": "code",
   "execution_count": 2,
   "id": "1fec5aab",
   "metadata": {},
   "outputs": [
    {
     "data": {
      "text/plain": [
       "'H'"
      ]
     },
     "execution_count": 2,
     "metadata": {},
     "output_type": "execute_result"
    }
   ],
   "source": [
    "a[0]"
   ]
  },
  {
   "cell_type": "code",
   "execution_count": 3,
   "id": "e5e53b66",
   "metadata": {},
   "outputs": [
    {
     "data": {
      "text/plain": [
       "'o'"
      ]
     },
     "execution_count": 3,
     "metadata": {},
     "output_type": "execute_result"
    }
   ],
   "source": [
    "a[7]"
   ]
  },
  {
   "cell_type": "code",
   "execution_count": 4,
   "id": "a93cfbcc",
   "metadata": {},
   "outputs": [
    {
     "data": {
      "text/plain": [
       "'o'"
      ]
     },
     "execution_count": 4,
     "metadata": {},
     "output_type": "execute_result"
    }
   ],
   "source": [
    "a[-5]"
   ]
  },
  {
   "cell_type": "code",
   "execution_count": 5,
   "id": "7ce08a70",
   "metadata": {},
   "outputs": [
    {
     "data": {
      "text/plain": [
       "'ello'"
      ]
     },
     "execution_count": 5,
     "metadata": {},
     "output_type": "execute_result"
    }
   ],
   "source": [
    "a[1:5]"
   ]
  },
  {
   "cell_type": "code",
   "execution_count": 6,
   "id": "d9fdfdd7",
   "metadata": {},
   "outputs": [
    {
     "data": {
      "text/plain": [
       "'Hello Worl'"
      ]
     },
     "execution_count": 6,
     "metadata": {},
     "output_type": "execute_result"
    }
   ],
   "source": [
    "a[:10]"
   ]
  },
  {
   "cell_type": "code",
   "execution_count": 7,
   "id": "31ccb64a",
   "metadata": {},
   "outputs": [
    {
     "data": {
      "text/plain": [
       "'lo World!'"
      ]
     },
     "execution_count": 7,
     "metadata": {},
     "output_type": "execute_result"
    }
   ],
   "source": [
    "a[3:]"
   ]
  },
  {
   "cell_type": "code",
   "execution_count": 8,
   "id": "4bedaa0d",
   "metadata": {},
   "outputs": [
    {
     "data": {
      "text/plain": [
       "'orld'"
      ]
     },
     "execution_count": 8,
     "metadata": {},
     "output_type": "execute_result"
    }
   ],
   "source": [
    "a[-5:-1]"
   ]
  },
  {
   "cell_type": "code",
   "execution_count": 9,
   "id": "198242a0",
   "metadata": {},
   "outputs": [
    {
     "data": {
      "text/plain": [
       "'ello'"
      ]
     },
     "execution_count": 9,
     "metadata": {},
     "output_type": "execute_result"
    }
   ],
   "source": [
    "a[-11:-7]"
   ]
  },
  {
   "cell_type": "code",
   "execution_count": 10,
   "id": "8ec16fd5",
   "metadata": {},
   "outputs": [
    {
     "data": {
      "text/plain": [
       "'HELLO WORLD!'"
      ]
     },
     "execution_count": 10,
     "metadata": {},
     "output_type": "execute_result"
    }
   ],
   "source": [
    "a.upper()"
   ]
  },
  {
   "cell_type": "code",
   "execution_count": 11,
   "id": "cc639547",
   "metadata": {},
   "outputs": [
    {
     "data": {
      "text/plain": [
       "'hello world!'"
      ]
     },
     "execution_count": 11,
     "metadata": {},
     "output_type": "execute_result"
    }
   ],
   "source": [
    "a.lower()"
   ]
  },
  {
   "cell_type": "code",
   "execution_count": 12,
   "id": "dd82d35a",
   "metadata": {},
   "outputs": [
    {
     "data": {
      "text/plain": [
       "'hello'"
      ]
     },
     "execution_count": 12,
     "metadata": {},
     "output_type": "execute_result"
    }
   ],
   "source": [
    "b='  hello'\n",
    "#remove white space in the beggining\n",
    "b.strip()"
   ]
  },
  {
   "cell_type": "code",
   "execution_count": 13,
   "id": "b2734367",
   "metadata": {},
   "outputs": [
    {
     "data": {
      "text/plain": [
       "'Cow'"
      ]
     },
     "execution_count": 13,
     "metadata": {},
     "output_type": "execute_result"
    }
   ],
   "source": [
    "c=\"How\"\n",
    "c.replace('H','C')"
   ]
  },
  {
   "cell_type": "code",
   "execution_count": 14,
   "id": "4daff431",
   "metadata": {},
   "outputs": [
    {
     "data": {
      "text/plain": [
       "['Hi', 'Hello']"
      ]
     },
     "execution_count": 14,
     "metadata": {},
     "output_type": "execute_result"
    }
   ],
   "source": [
    "d=\"Hi,Hello\"\n",
    "d.split(\",\")"
   ]
  },
  {
   "cell_type": "code",
   "execution_count": 15,
   "id": "8555af3b",
   "metadata": {},
   "outputs": [
    {
     "data": {
      "text/plain": [
       "['Hello', 'World!']"
      ]
     },
     "execution_count": 15,
     "metadata": {},
     "output_type": "execute_result"
    }
   ],
   "source": [
    "a.split(\" \")"
   ]
  },
  {
   "cell_type": "code",
   "execution_count": 16,
   "id": "0104d2b3",
   "metadata": {},
   "outputs": [
    {
     "data": {
      "text/plain": [
       "'Jms'"
      ]
     },
     "execution_count": 16,
     "metadata": {},
     "output_type": "execute_result"
    }
   ],
   "source": [
    "str=\"James\"\n",
    "str1=str[0]+str[2]+str[4]\n",
    "str1"
   ]
  },
  {
   "cell_type": "code",
   "execution_count": 17,
   "id": "53f58283",
   "metadata": {},
   "outputs": [
    {
     "data": {
      "text/plain": [
       "''"
      ]
     },
     "execution_count": 17,
     "metadata": {},
     "output_type": "execute_result"
    }
   ],
   "source": [
    "a[2:-12]"
   ]
  },
  {
   "cell_type": "code",
   "execution_count": 18,
   "id": "caa96303",
   "metadata": {},
   "outputs": [
    {
     "data": {
      "text/plain": [
       "'He'"
      ]
     },
     "execution_count": 18,
     "metadata": {},
     "output_type": "execute_result"
    }
   ],
   "source": [
    "a[-12:2]"
   ]
  },
  {
   "cell_type": "code",
   "execution_count": 19,
   "id": "bbb477d6",
   "metadata": {},
   "outputs": [
    {
     "name": "stdout",
     "output_type": "stream",
     "text": [
      "12\n"
     ]
    }
   ],
   "source": [
    "print(len(a))"
   ]
  },
  {
   "cell_type": "code",
   "execution_count": 20,
   "id": "3848cbf4",
   "metadata": {},
   "outputs": [
    {
     "data": {
      "text/plain": [
       "7"
      ]
     },
     "execution_count": 20,
     "metadata": {},
     "output_type": "execute_result"
    }
   ],
   "source": [
    "len(b)"
   ]
  },
  {
   "cell_type": "code",
   "execution_count": 21,
   "id": "b0d9b025",
   "metadata": {},
   "outputs": [
    {
     "data": {
      "text/plain": [
       "8"
      ]
     },
     "execution_count": 21,
     "metadata": {},
     "output_type": "execute_result"
    }
   ],
   "source": [
    "len(d)"
   ]
  },
  {
   "cell_type": "code",
   "execution_count": 22,
   "id": "a20d3307",
   "metadata": {},
   "outputs": [
    {
     "data": {
      "text/plain": [
       "'!dlroW olleH'"
      ]
     },
     "execution_count": 22,
     "metadata": {},
     "output_type": "execute_result"
    }
   ],
   "source": [
    "a[::-1]"
   ]
  },
  {
   "cell_type": "markdown",
   "id": "852b7b00",
   "metadata": {},
   "source": [
    "## Problems"
   ]
  },
  {
   "cell_type": "code",
   "execution_count": 23,
   "id": "20cfd0d8",
   "metadata": {},
   "outputs": [
    {
     "name": "stdout",
     "output_type": "stream",
     "text": [
      "200.96\n"
     ]
    }
   ],
   "source": [
    "# Write a python program to calculate area of a circle\n",
    "radius=8\n",
    "AreaofCircle=3.14*radius*radius\n",
    "print(AreaofCircle)"
   ]
  },
  {
   "cell_type": "code",
   "execution_count": 24,
   "id": "96813cf4",
   "metadata": {},
   "outputs": [
    {
     "name": "stdout",
     "output_type": "stream",
     "text": [
      "Enter the radius:16\n",
      "Area of the circle is 803.84\n"
     ]
    }
   ],
   "source": [
    "r=int(input(\"Enter the radius:\"))\n",
    "Area=3.14*r*r\n",
    "print(\"Area of the circle is\",Area)"
   ]
  },
  {
   "cell_type": "code",
   "execution_count": 25,
   "id": "08d5a181",
   "metadata": {},
   "outputs": [
    {
     "name": "stdout",
     "output_type": "stream",
     "text": [
      "904.3199999999999\n"
     ]
    }
   ],
   "source": [
    "# Write a program to calculate volume of a sphere with radius 6\n",
    "r=6\n",
    "VolumeofSphere=(4/3)*(3.14)*(r**3)\n",
    "print(VolumeofSphere)"
   ]
  },
  {
   "cell_type": "code",
   "execution_count": 26,
   "id": "e6bd515a",
   "metadata": {},
   "outputs": [
    {
     "name": "stdout",
     "output_type": "stream",
     "text": [
      "Enter your first name:Reshma\n",
      "Enter your last name:ac\n",
      "Your Name is ac Reshma\n",
      "reversed form of your name: ca amhseR\n"
     ]
    }
   ],
   "source": [
    "# Write a python program to accept the users first and last name and print them in reverse order with a space between them\n",
    "FirstName=input(\"Enter your first name:\")\n",
    "LastName=input(\"Enter your last name:\")\n",
    "print(\"Your Name is\",LastName,FirstName)\n",
    "print(\"reversed form of your name:\",LastName[::-1],FirstName[::-1])"
   ]
  },
  {
   "cell_type": "code",
   "execution_count": 27,
   "id": "9d0f13d7",
   "metadata": {},
   "outputs": [
    {
     "name": "stdout",
     "output_type": "stream",
     "text": [
      "ca amhseR\n"
     ]
    }
   ],
   "source": [
    "print(LastName[::-1]+\" \"+FirstName[::-1])"
   ]
  },
  {
   "cell_type": "code",
   "execution_count": 28,
   "id": "ae2d156e",
   "metadata": {},
   "outputs": [
    {
     "data": {
      "text/plain": [
       "'AUKELLYLT'"
      ]
     },
     "execution_count": 28,
     "metadata": {},
     "output_type": "execute_result"
    }
   ],
   "source": [
    "# append a new string in middle of a given string :s1=ault, s2=kelly ;output s3=aukellylt\n",
    "S1=\"AULT\"\n",
    "S2=\"KELLY\"\n",
    "#S3=S1[:2]+S2+S1[2:]\n",
    "mid=len(S1)//2\n",
    "S3=S1[:mid]+S2+S1[mid:]\n",
    "S3"
   ]
  },
  {
   "cell_type": "code",
   "execution_count": 29,
   "id": "555174b5",
   "metadata": {},
   "outputs": [
    {
     "data": {
      "text/plain": [
       "'AJRPAN'"
      ]
     },
     "execution_count": 29,
     "metadata": {},
     "output_type": "execute_result"
    }
   ],
   "source": [
    "# create a new string made of first,middle and last characters s1=AMERICA, s2=JAPAN, OUTPUT:AJRPAN\n",
    "s1=\"AMERICA\"\n",
    "s2=\"JAPAN\"\n",
    "mid1=len(s1)//2\n",
    "mid2=len(s2)//2\n",
    "s3=s1[0]+s2[0]+s1[mid1]+s2[mid2]+s1[-1]+s2[-1]\n",
    "s3"
   ]
  },
  {
   "cell_type": "code",
   "execution_count": 30,
   "id": "f48dd056",
   "metadata": {},
   "outputs": [
    {
     "data": {
      "text/plain": [
       "'AJRPAN'"
      ]
     },
     "execution_count": 30,
     "metadata": {},
     "output_type": "execute_result"
    }
   ],
   "source": [
    "s4=s1[0]+s2[0]+s1[mid1]+s2[mid2]+s1[len(s1)-1]+s2[len(s2)-1]\n",
    "s4"
   ]
  },
  {
   "cell_type": "code",
   "execution_count": null,
   "id": "2cd0f4e8",
   "metadata": {},
   "outputs": [],
   "source": []
  }
 ],
 "metadata": {
  "kernelspec": {
   "display_name": "Python 3 (ipykernel)",
   "language": "python",
   "name": "python3"
  },
  "language_info": {
   "codemirror_mode": {
    "name": "ipython",
    "version": 3
   },
   "file_extension": ".py",
   "mimetype": "text/x-python",
   "name": "python",
   "nbconvert_exporter": "python",
   "pygments_lexer": "ipython3",
   "version": "3.9.13"
  }
 },
 "nbformat": 4,
 "nbformat_minor": 5
}
