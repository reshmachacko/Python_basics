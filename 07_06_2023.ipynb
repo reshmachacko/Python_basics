{
 "cells": [
  {
   "cell_type": "markdown",
   "id": "b8da0ebf",
   "metadata": {},
   "source": [
    "### <CENTER>PROGRAMMING QUESTIONS ANSWERS"
   ]
  },
  {
   "cell_type": "markdown",
   "id": "b7e2a083",
   "metadata": {},
   "source": [
    "#### 16. check if the first and last items of a list are same"
   ]
  },
  {
   "cell_type": "code",
   "execution_count": 1,
   "id": "ba5cf0a5",
   "metadata": {},
   "outputs": [
    {
     "name": "stdout",
     "output_type": "stream",
     "text": [
      "not same\n"
     ]
    }
   ],
   "source": [
    "list=['a',1,2,'b',4]\n",
    "if list[0]==list[-1]:\n",
    "    print('same')\n",
    "else:\n",
    "    print('not same')"
   ]
  },
  {
   "cell_type": "markdown",
   "id": "801f0c3b",
   "metadata": {},
   "source": [
    "#### 17. print the number that are divisible by 5 from a given list"
   ]
  },
  {
   "cell_type": "code",
   "execution_count": 2,
   "id": "2215a2fb",
   "metadata": {},
   "outputs": [
    {
     "name": "stdout",
     "output_type": "stream",
     "text": [
      "5\n",
      "10\n",
      "25\n"
     ]
    }
   ],
   "source": [
    "a=[5,10,12,11,25]\n",
    "for i in a:\n",
    "    if i%5==0:\n",
    "        print(i)"
   ]
  },
  {
   "cell_type": "markdown",
   "id": "a613c711",
   "metadata": {},
   "source": [
    "### Nested for Loop"
   ]
  },
  {
   "cell_type": "code",
   "execution_count": 3,
   "id": "12c09074",
   "metadata": {},
   "outputs": [
    {
     "name": "stdout",
     "output_type": "stream",
     "text": [
      "0\n",
      "1\n",
      "\n",
      "0\n",
      "1\n",
      "2\n",
      "\n",
      "0\n",
      "1\n",
      "2\n",
      "3\n",
      "\n",
      "0\n",
      "1\n",
      "2\n",
      "3\n",
      "4\n",
      "\n",
      "0\n",
      "1\n",
      "2\n",
      "3\n",
      "4\n",
      "5\n",
      "\n",
      "0\n",
      "1\n",
      "2\n",
      "3\n",
      "4\n",
      "5\n",
      "6\n",
      "\n",
      "0\n",
      "1\n",
      "2\n",
      "3\n",
      "4\n",
      "5\n",
      "6\n",
      "7\n",
      "\n",
      "0\n",
      "1\n",
      "2\n",
      "3\n",
      "4\n",
      "5\n",
      "6\n",
      "7\n",
      "8\n",
      "\n",
      "0\n",
      "1\n",
      "2\n",
      "3\n",
      "4\n",
      "5\n",
      "6\n",
      "7\n",
      "8\n",
      "9\n",
      "\n"
     ]
    }
   ],
   "source": [
    "for i in range(1,10):\n",
    "    for j in range(i+1):\n",
    "        print(j)\n",
    "    print()"
   ]
  },
  {
   "cell_type": "code",
   "execution_count": 4,
   "id": "eb6c8d9c",
   "metadata": {},
   "outputs": [
    {
     "name": "stdout",
     "output_type": "stream",
     "text": [
      "0 1 \n",
      "0 1 2 \n",
      "0 1 2 3 \n",
      "0 1 2 3 4 \n",
      "0 1 2 3 4 5 \n",
      "0 1 2 3 4 5 6 \n",
      "0 1 2 3 4 5 6 7 \n",
      "0 1 2 3 4 5 6 7 8 \n",
      "0 1 2 3 4 5 6 7 8 9 \n"
     ]
    }
   ],
   "source": [
    "for i in range(1,10):\n",
    "    for j in range(i+1):\n",
    "        print(j,end=\" \")\n",
    "    print()"
   ]
  },
  {
   "cell_type": "code",
   "execution_count": 5,
   "id": "93efb367",
   "metadata": {},
   "outputs": [
    {
     "name": "stdout",
     "output_type": "stream",
     "text": [
      "* \n",
      "* * \n",
      "* * * \n",
      "* * * * \n",
      "* * * * * \n",
      "* * * * * * \n"
     ]
    }
   ],
   "source": [
    "for i in range(6):\n",
    "    for j in range(i+1):\n",
    "        print(\"*\",end=\" \")\n",
    "    print()"
   ]
  },
  {
   "cell_type": "markdown",
   "id": "41441b58",
   "metadata": {},
   "source": [
    "#### input------>L1=[\"M\",\"na\",\"i\",\"Ke\"]  ,        L2=[\"y\",\"me\",\"s\",\"lly\"]\n",
    "\n",
    "#### output----->[\"My\",\"name\",\"is\",\"Kelly\"]\n"
   ]
  },
  {
   "cell_type": "code",
   "execution_count": 6,
   "id": "b248cdb2",
   "metadata": {},
   "outputs": [
    {
     "name": "stdout",
     "output_type": "stream",
     "text": [
      "['My', 'name', 'is', 'Kelly']\n"
     ]
    }
   ],
   "source": [
    "L1=[\"M\",\"na\",\"i\",\"Ke\"]\n",
    "L2=[\"y\",\"me\",\"s\",\"lly\"]\n",
    "\n",
    "L=[]\n",
    "for i in range(len(L1)):\n",
    "    a=L1[i]+L2[i]\n",
    "    L.append(a)\n",
    "print(L)\n",
    "  "
   ]
  },
  {
   "cell_type": "markdown",
   "id": "08760f42",
   "metadata": {},
   "source": [
    "#### input------>L1=[\"Hello\",\"Take\"]  ,        L2=[\"Dear\",\"Sir\"]\n",
    "\n",
    "#### output----->[\"HelloDear\",\"HelloSir\",\"TakeDear\",\"TakrSir\"]\n"
   ]
  },
  {
   "cell_type": "code",
   "execution_count": 7,
   "id": "2641fbd2",
   "metadata": {},
   "outputs": [
    {
     "name": "stdout",
     "output_type": "stream",
     "text": [
      "['HelloDear', 'HelloSir', 'TakeDear', 'TakeSir']\n"
     ]
    }
   ],
   "source": [
    "L1=[\"Hello\",\"Take\"] \n",
    "L2=[\"Dear\",\"Sir\"]\n",
    "\n",
    "L=[]\n",
    "for i in L1:\n",
    "    for j in L2:\n",
    "        a=i+j\n",
    "        L.append(a)\n",
    "print(L)"
   ]
  },
  {
   "cell_type": "code",
   "execution_count": 8,
   "id": "e10cf727",
   "metadata": {},
   "outputs": [
    {
     "name": "stdout",
     "output_type": "stream",
     "text": [
      "['HelloDear', 'HelloSir', 'TakeDear', 'TakeSir']\n"
     ]
    }
   ],
   "source": [
    "Ls=[]\n",
    "for i in range(len(L1)):\n",
    "    for j in range(len(L2)):\n",
    "        a=L1[i]+L2[j]\n",
    "        Ls.append(a)\n",
    "        \n",
    "print(Ls)"
   ]
  },
  {
   "cell_type": "markdown",
   "id": "fea76271",
   "metadata": {},
   "source": [
    "#### input------>a=[1,2,3,4,5]\n",
    "\n",
    "#### output----->b=[1,4,9,16,25]"
   ]
  },
  {
   "cell_type": "code",
   "execution_count": 9,
   "id": "8a99fd44",
   "metadata": {},
   "outputs": [
    {
     "name": "stdout",
     "output_type": "stream",
     "text": [
      "[1, 4, 9, 16, 25]\n"
     ]
    }
   ],
   "source": [
    "a=[1,2,3,4,5]\n",
    "\n",
    "b=[]\n",
    "for i in a:\n",
    "    b.append(i**2)\n",
    "print(b)"
   ]
  },
  {
   "cell_type": "markdown",
   "id": "46d3a669",
   "metadata": {},
   "source": [
    "#### input------>list1=[10,20,[300,400,[5000,6000],500],30,40]\n",
    "\n",
    "#### output----->[10,20,[300,400,[5000,6000,7000],500],30,40]"
   ]
  },
  {
   "cell_type": "code",
   "execution_count": 10,
   "id": "f980688c",
   "metadata": {},
   "outputs": [
    {
     "name": "stdout",
     "output_type": "stream",
     "text": [
      "[10, 20, [300, 400, [5000, 6000, 7000], 500], 30, 40]\n"
     ]
    }
   ],
   "source": [
    "list1=[10,20,[300,400,[5000,6000],500],30,40]\n",
    "list1[2][2].append(7000)\n",
    "print(list1)"
   ]
  },
  {
   "cell_type": "code",
   "execution_count": null,
   "id": "6dea51ae",
   "metadata": {},
   "outputs": [],
   "source": []
  },
  {
   "cell_type": "markdown",
   "id": "9ada511e",
   "metadata": {},
   "source": [
    "## SET"
   ]
  },
  {
   "cell_type": "code",
   "execution_count": 11,
   "id": "5930cc58",
   "metadata": {},
   "outputs": [],
   "source": [
    "names={'riya','anu','ram','sam'}"
   ]
  },
  {
   "cell_type": "code",
   "execution_count": 12,
   "id": "d8c7b23e",
   "metadata": {},
   "outputs": [
    {
     "data": {
      "text/plain": [
       "4"
      ]
     },
     "execution_count": 12,
     "metadata": {},
     "output_type": "execute_result"
    }
   ],
   "source": [
    "len(names)"
   ]
  },
  {
   "cell_type": "code",
   "execution_count": 13,
   "id": "a9d2123d",
   "metadata": {},
   "outputs": [
    {
     "data": {
      "text/plain": [
       "set"
      ]
     },
     "execution_count": 13,
     "metadata": {},
     "output_type": "execute_result"
    }
   ],
   "source": [
    "type(names)"
   ]
  },
  {
   "cell_type": "code",
   "execution_count": 14,
   "id": "dcac905b",
   "metadata": {},
   "outputs": [
    {
     "name": "stdout",
     "output_type": "stream",
     "text": [
      "anu\n",
      "riya\n",
      "sam\n",
      "ram\n"
     ]
    }
   ],
   "source": [
    "for x in names:\n",
    "    print(x)"
   ]
  },
  {
   "cell_type": "code",
   "execution_count": 15,
   "id": "6029581e",
   "metadata": {},
   "outputs": [
    {
     "name": "stdout",
     "output_type": "stream",
     "text": [
      "{'ann', 'ram', 'anu', 'riya', 'sam'}\n"
     ]
    }
   ],
   "source": [
    "names.add('ann')\n",
    "print(names)"
   ]
  },
  {
   "cell_type": "code",
   "execution_count": 16,
   "id": "3026c34a",
   "metadata": {},
   "outputs": [
    {
     "data": {
      "text/plain": [
       "{17, 22, 25, 26, 30, 'ann', 'anu', 'ram', 'riya', 'sam'}"
      ]
     },
     "execution_count": 16,
     "metadata": {},
     "output_type": "execute_result"
    }
   ],
   "source": [
    "age={22,30,26,25,17}\n",
    "names.update(age)\n",
    "names"
   ]
  },
  {
   "cell_type": "code",
   "execution_count": 17,
   "id": "09dbea34",
   "metadata": {},
   "outputs": [
    {
     "data": {
      "text/plain": [
       "{17, 22, 25, 26, 30, 'ann', 'anu', 'ram', 'riya', 'sam'}"
      ]
     },
     "execution_count": 17,
     "metadata": {},
     "output_type": "execute_result"
    }
   ],
   "source": [
    "names.union(age)"
   ]
  },
  {
   "cell_type": "code",
   "execution_count": 18,
   "id": "458c315c",
   "metadata": {},
   "outputs": [
    {
     "data": {
      "text/plain": [
       "{'ann', 'sam'}"
      ]
     },
     "execution_count": 18,
     "metadata": {},
     "output_type": "execute_result"
    }
   ],
   "source": [
    "person={'sam','sita','ann','maya'}\n",
    "names.intersection(person)"
   ]
  },
  {
   "cell_type": "code",
   "execution_count": 19,
   "id": "d2ce833b",
   "metadata": {},
   "outputs": [
    {
     "name": "stdout",
     "output_type": "stream",
     "text": [
      "{26, 'ann', 'anu', 17, 22, 25, 'riya', 'sam', 30}\n"
     ]
    }
   ],
   "source": [
    "names.remove('ram')\n",
    "print(names)"
   ]
  },
  {
   "cell_type": "code",
   "execution_count": 20,
   "id": "b44e3e9d",
   "metadata": {},
   "outputs": [
    {
     "name": "stdout",
     "output_type": "stream",
     "text": [
      "{26, 'ann', 'anu', 17, 22, 25, 'sam', 30}\n"
     ]
    }
   ],
   "source": [
    "names.discard('riya')\n",
    "print(names)"
   ]
  },
  {
   "cell_type": "code",
   "execution_count": 21,
   "id": "c31d1b76",
   "metadata": {},
   "outputs": [
    {
     "data": {
      "text/plain": [
       "26"
      ]
     },
     "execution_count": 21,
     "metadata": {},
     "output_type": "execute_result"
    }
   ],
   "source": [
    "names.pop()"
   ]
  },
  {
   "cell_type": "code",
   "execution_count": 22,
   "id": "0b9bfcd0",
   "metadata": {},
   "outputs": [
    {
     "data": {
      "text/plain": [
       "set()"
      ]
     },
     "execution_count": 22,
     "metadata": {},
     "output_type": "execute_result"
    }
   ],
   "source": [
    "names.clear()\n",
    "names"
   ]
  },
  {
   "cell_type": "code",
   "execution_count": 23,
   "id": "b0d8eeb3",
   "metadata": {},
   "outputs": [],
   "source": [
    "del names"
   ]
  },
  {
   "cell_type": "markdown",
   "id": "07db38f9",
   "metadata": {},
   "source": [
    "## DICTIONARY"
   ]
  },
  {
   "cell_type": "code",
   "execution_count": 24,
   "id": "22c78e18",
   "metadata": {},
   "outputs": [],
   "source": [
    "Person1={'Name':'Ram',\n",
    "        'Age':26,\n",
    "        'gmail':'abc@gmail.com'}"
   ]
  },
  {
   "cell_type": "code",
   "execution_count": 25,
   "id": "aac9f4a0",
   "metadata": {},
   "outputs": [
    {
     "name": "stdout",
     "output_type": "stream",
     "text": [
      "Ram\n"
     ]
    }
   ],
   "source": [
    "print(Person1['Name'])"
   ]
  },
  {
   "cell_type": "code",
   "execution_count": 26,
   "id": "d6520ad7",
   "metadata": {},
   "outputs": [
    {
     "name": "stdout",
     "output_type": "stream",
     "text": [
      "abc@gmail.com\n"
     ]
    }
   ],
   "source": [
    "print(Person1['gmail'])"
   ]
  },
  {
   "cell_type": "code",
   "execution_count": 27,
   "id": "8c70eca2",
   "metadata": {},
   "outputs": [
    {
     "data": {
      "text/plain": [
       "'Ram'"
      ]
     },
     "execution_count": 27,
     "metadata": {},
     "output_type": "execute_result"
    }
   ],
   "source": [
    "Person1.get('Name')"
   ]
  },
  {
   "cell_type": "code",
   "execution_count": 28,
   "id": "b3a82640",
   "metadata": {},
   "outputs": [
    {
     "data": {
      "text/plain": [
       "dict_keys(['Name', 'Age', 'gmail'])"
      ]
     },
     "execution_count": 28,
     "metadata": {},
     "output_type": "execute_result"
    }
   ],
   "source": [
    "Person1.keys()"
   ]
  },
  {
   "cell_type": "code",
   "execution_count": 29,
   "id": "24991d98",
   "metadata": {},
   "outputs": [
    {
     "data": {
      "text/plain": [
       "dict_values(['Ram', 26, 'abc@gmail.com'])"
      ]
     },
     "execution_count": 29,
     "metadata": {},
     "output_type": "execute_result"
    }
   ],
   "source": [
    "Person1.values()"
   ]
  },
  {
   "cell_type": "code",
   "execution_count": 30,
   "id": "aa5a7acc",
   "metadata": {},
   "outputs": [
    {
     "data": {
      "text/plain": [
       "dict_items([('Name', 'Ram'), ('Age', 26), ('gmail', 'abc@gmail.com')])"
      ]
     },
     "execution_count": 30,
     "metadata": {},
     "output_type": "execute_result"
    }
   ],
   "source": [
    "Person1.items()"
   ]
  },
  {
   "cell_type": "code",
   "execution_count": 31,
   "id": "f2132e8d",
   "metadata": {},
   "outputs": [
    {
     "data": {
      "text/plain": [
       "3"
      ]
     },
     "execution_count": 31,
     "metadata": {},
     "output_type": "execute_result"
    }
   ],
   "source": [
    "len(Person1)"
   ]
  },
  {
   "cell_type": "code",
   "execution_count": 32,
   "id": "1e75314b",
   "metadata": {},
   "outputs": [
    {
     "data": {
      "text/plain": [
       "dict"
      ]
     },
     "execution_count": 32,
     "metadata": {},
     "output_type": "execute_result"
    }
   ],
   "source": [
    "type(Person1)"
   ]
  },
  {
   "cell_type": "code",
   "execution_count": 33,
   "id": "fffc942a",
   "metadata": {},
   "outputs": [
    {
     "name": "stdout",
     "output_type": "stream",
     "text": [
      "{'Name': 'Ram', 'Age': 27, 'gmail': 'abc@gmail.com'}\n"
     ]
    }
   ],
   "source": [
    "# to change item in dictionary\n",
    "Person1['Age']=27\n",
    "print(Person1)"
   ]
  },
  {
   "cell_type": "code",
   "execution_count": 34,
   "id": "b1718ae8",
   "metadata": {},
   "outputs": [
    {
     "name": "stdout",
     "output_type": "stream",
     "text": [
      "{'Name': 'Ram', 'Age': 29, 'gmail': 'abc@gmail.com'}\n"
     ]
    }
   ],
   "source": [
    "Person1.update({'Age': 29})\n",
    "print(Person1)"
   ]
  },
  {
   "cell_type": "code",
   "execution_count": 35,
   "id": "c4e1c621",
   "metadata": {},
   "outputs": [
    {
     "name": "stdout",
     "output_type": "stream",
     "text": [
      "{'Name': 'Ram', 'Age': 29, 'gmail': 'abc@gmail.com', 'contact': 8799764934}\n"
     ]
    }
   ],
   "source": [
    "# to add items\n",
    "Person1['contact']=8799764934\n",
    "print(Person1)"
   ]
  },
  {
   "cell_type": "code",
   "execution_count": 36,
   "id": "3f71a17b",
   "metadata": {},
   "outputs": [
    {
     "data": {
      "text/plain": [
       "29"
      ]
     },
     "execution_count": 36,
     "metadata": {},
     "output_type": "execute_result"
    }
   ],
   "source": [
    "# to remove\n",
    "Person1.pop('Age')"
   ]
  },
  {
   "cell_type": "code",
   "execution_count": 37,
   "id": "e72ac512",
   "metadata": {},
   "outputs": [
    {
     "name": "stdout",
     "output_type": "stream",
     "text": [
      "{'Name': 'Ram', 'gmail': 'abc@gmail.com', 'contact': 8799764934}\n"
     ]
    }
   ],
   "source": [
    "print(Person1)"
   ]
  },
  {
   "cell_type": "code",
   "execution_count": 38,
   "id": "a15f2b4a",
   "metadata": {},
   "outputs": [
    {
     "data": {
      "text/plain": [
       "('contact', 8799764934)"
      ]
     },
     "execution_count": 38,
     "metadata": {},
     "output_type": "execute_result"
    }
   ],
   "source": [
    "Person1.popitem()"
   ]
  },
  {
   "cell_type": "code",
   "execution_count": 39,
   "id": "2da8c1a1",
   "metadata": {},
   "outputs": [
    {
     "name": "stdout",
     "output_type": "stream",
     "text": [
      "{'Name': 'Ram', 'gmail': 'abc@gmail.com'}\n"
     ]
    }
   ],
   "source": [
    "print(Person1)"
   ]
  },
  {
   "cell_type": "code",
   "execution_count": 40,
   "id": "6e734fb1",
   "metadata": {},
   "outputs": [
    {
     "name": "stdout",
     "output_type": "stream",
     "text": [
      "{'Name': 'Ram'}\n"
     ]
    }
   ],
   "source": [
    "del Person1['gmail']\n",
    "print(Person1)"
   ]
  },
  {
   "cell_type": "code",
   "execution_count": 41,
   "id": "37a2fc71",
   "metadata": {},
   "outputs": [
    {
     "name": "stdout",
     "output_type": "stream",
     "text": [
      "{}\n"
     ]
    }
   ],
   "source": [
    "# clear\n",
    "Person1.clear()\n",
    "print(Person1)"
   ]
  },
  {
   "cell_type": "code",
   "execution_count": 42,
   "id": "35f2b5ca",
   "metadata": {},
   "outputs": [],
   "source": [
    "del Person1"
   ]
  },
  {
   "cell_type": "markdown",
   "id": "66d3c695",
   "metadata": {},
   "source": [
    "#### using for loop"
   ]
  },
  {
   "cell_type": "code",
   "execution_count": 43,
   "id": "d55acd90",
   "metadata": {},
   "outputs": [],
   "source": [
    "Person2={'Name': 'Ram', 'Age': 29, 'gmail': 'abc@gmail.com', 'contact': 8799764934,'salry':100000}"
   ]
  },
  {
   "cell_type": "code",
   "execution_count": 44,
   "id": "aa7aa3ef",
   "metadata": {},
   "outputs": [
    {
     "name": "stdout",
     "output_type": "stream",
     "text": [
      "Name\n",
      "Age\n",
      "gmail\n",
      "contact\n",
      "salry\n"
     ]
    }
   ],
   "source": [
    "# to print keys in dictionary\n",
    "for x in Person2:\n",
    "    print(x)    "
   ]
  },
  {
   "cell_type": "code",
   "execution_count": 45,
   "id": "495d981c",
   "metadata": {},
   "outputs": [
    {
     "name": "stdout",
     "output_type": "stream",
     "text": [
      "Name\n",
      "Age\n",
      "gmail\n",
      "contact\n",
      "salry\n"
     ]
    }
   ],
   "source": [
    "for x in Person2.keys():\n",
    "    print(x)   "
   ]
  },
  {
   "cell_type": "code",
   "execution_count": 46,
   "id": "6cf737a1",
   "metadata": {},
   "outputs": [
    {
     "name": "stdout",
     "output_type": "stream",
     "text": [
      "Ram\n",
      "29\n",
      "abc@gmail.com\n",
      "8799764934\n",
      "100000\n"
     ]
    }
   ],
   "source": [
    "# to access values\n",
    "for x in Person2:\n",
    "    print(Person2[x])"
   ]
  },
  {
   "cell_type": "code",
   "execution_count": 47,
   "id": "fd44bdfc",
   "metadata": {},
   "outputs": [
    {
     "name": "stdout",
     "output_type": "stream",
     "text": [
      "Ram\n",
      "29\n",
      "abc@gmail.com\n",
      "8799764934\n",
      "100000\n"
     ]
    }
   ],
   "source": [
    "for x in Person2.values():\n",
    "    print(x)"
   ]
  },
  {
   "cell_type": "markdown",
   "id": "fa9be997",
   "metadata": {},
   "source": [
    "### Question  Answers"
   ]
  },
  {
   "cell_type": "markdown",
   "id": "7fcce35b",
   "metadata": {},
   "source": [
    "#### WAP to calculate the factorial of a number"
   ]
  },
  {
   "cell_type": "code",
   "execution_count": 48,
   "id": "86d12e0a",
   "metadata": {},
   "outputs": [
    {
     "name": "stdout",
     "output_type": "stream",
     "text": [
      "Enter a number:15\n",
      "1307674368000\n"
     ]
    }
   ],
   "source": [
    "n=int(input(\"Enter a number:\"))\n",
    "fact=1\n",
    "for i in range(1,n+1):\n",
    "    fact*=i\n",
    "print(fact)"
   ]
  },
  {
   "cell_type": "markdown",
   "id": "6dbd4a2c",
   "metadata": {},
   "source": [
    "#### print the numbers from -10 to -1"
   ]
  },
  {
   "cell_type": "code",
   "execution_count": 49,
   "id": "15fbebc1",
   "metadata": {},
   "outputs": [
    {
     "name": "stdout",
     "output_type": "stream",
     "text": [
      "-10\n",
      "-9\n",
      "-8\n",
      "-7\n",
      "-6\n",
      "-5\n",
      "-4\n",
      "-3\n",
      "-2\n",
      "-1\n"
     ]
    }
   ],
   "source": [
    "for i in range(-10,0):\n",
    "    print(i)"
   ]
  },
  {
   "cell_type": "markdown",
   "id": "e929eb9c",
   "metadata": {},
   "source": [
    "#### WAP to reverse a number"
   ]
  },
  {
   "cell_type": "code",
   "execution_count": 50,
   "id": "fe867f6a",
   "metadata": {},
   "outputs": [
    {
     "name": "stdout",
     "output_type": "stream",
     "text": [
      "76543\n"
     ]
    }
   ],
   "source": [
    "n=34567\n",
    "reverse_num=0\n",
    "while n>0:\n",
    "    reminder=n%10\n",
    "    reverse_num=(reverse_num*10)+reminder\n",
    "    n=n//10\n",
    "print(reverse_num)"
   ]
  },
  {
   "cell_type": "markdown",
   "id": "339d8b8e",
   "metadata": {},
   "source": [
    "#### calculatre the cube of all numbers from 1 to a given number"
   ]
  },
  {
   "cell_type": "code",
   "execution_count": 51,
   "id": "a6eaf256",
   "metadata": {},
   "outputs": [
    {
     "name": "stdout",
     "output_type": "stream",
     "text": [
      "Enter a number:20\n",
      "1\n",
      "8\n",
      "27\n",
      "64\n",
      "125\n",
      "216\n",
      "343\n",
      "512\n",
      "729\n",
      "1000\n",
      "1331\n",
      "1728\n",
      "2197\n",
      "2744\n",
      "3375\n",
      "4096\n",
      "4913\n",
      "5832\n",
      "6859\n",
      "8000\n"
     ]
    }
   ],
   "source": [
    "n=int(input(\"Enter a number:\"))\n",
    "for i in range(1,n+1):\n",
    "    print(i**3)"
   ]
  },
  {
   "cell_type": "markdown",
   "id": "87c3a449",
   "metadata": {},
   "source": [
    "#### store cubes into a list"
   ]
  },
  {
   "cell_type": "code",
   "execution_count": 54,
   "id": "81800f98",
   "metadata": {},
   "outputs": [
    {
     "name": "stdout",
     "output_type": "stream",
     "text": [
      "Enter a number:10\n",
      "[1, 8, 27, 64, 125, 216, 343, 512, 729, 1000]\n"
     ]
    }
   ],
   "source": [
    "l=[]\n",
    "n=int(input(\"Enter a number:\"))\n",
    "for i in range(1,n+1):\n",
    "    x=i**3\n",
    "    l.append(x)\n",
    "print(l)"
   ]
  },
  {
   "cell_type": "markdown",
   "id": "5d84cfe3",
   "metadata": {},
   "source": [
    "#### delete a list of keys from a dictionary"
   ]
  },
  {
   "cell_type": "code",
   "execution_count": 55,
   "id": "c150da0d",
   "metadata": {},
   "outputs": [
    {
     "name": "stdout",
     "output_type": "stream",
     "text": [
      "{'age': 27, 'city': 'mysore'}\n"
     ]
    }
   ],
   "source": [
    "Personal={'name':'janu','age':27,'salary':30000,'city':'mysore'}\n",
    "keys=['name','salary']\n",
    "\n",
    "for i in keys:\n",
    "    Personal.pop(i)\n",
    "print(Personal)"
   ]
  },
  {
   "cell_type": "markdown",
   "id": "f535f210",
   "metadata": {},
   "source": [
    "#### pattern creation using python"
   ]
  },
  {
   "cell_type": "code",
   "execution_count": 57,
   "id": "ae2a3fe2",
   "metadata": {},
   "outputs": [
    {
     "name": "stdout",
     "output_type": "stream",
     "text": [
      "0 \n",
      "0 1 \n",
      "0 1 2 \n",
      "0 1 2 3 \n",
      "0 1 2 3 4 \n"
     ]
    }
   ],
   "source": [
    "for i in range(5):\n",
    "    for j in range(i+1):\n",
    "        print(j,end=\" \")\n",
    "    print()"
   ]
  },
  {
   "cell_type": "code",
   "execution_count": 58,
   "id": "aef1fba3",
   "metadata": {},
   "outputs": [
    {
     "name": "stdout",
     "output_type": "stream",
     "text": [
      "1 1 \n",
      "2 2 2 \n",
      "3 3 3 3 \n",
      "4 4 4 4 4 \n"
     ]
    }
   ],
   "source": [
    "for i in range(1,5):\n",
    "    for j in range(i+1):\n",
    "        print(i,end=\" \")\n",
    "    print()"
   ]
  },
  {
   "cell_type": "code",
   "execution_count": null,
   "id": "b9cfe6b8",
   "metadata": {},
   "outputs": [],
   "source": []
  }
 ],
 "metadata": {
  "kernelspec": {
   "display_name": "Python 3 (ipykernel)",
   "language": "python",
   "name": "python3"
  },
  "language_info": {
   "codemirror_mode": {
    "name": "ipython",
    "version": 3
   },
   "file_extension": ".py",
   "mimetype": "text/x-python",
   "name": "python",
   "nbconvert_exporter": "python",
   "pygments_lexer": "ipython3",
   "version": "3.9.13"
  }
 },
 "nbformat": 4,
 "nbformat_minor": 5
}
