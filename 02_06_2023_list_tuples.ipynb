{
 "cells": [
  {
   "cell_type": "markdown",
   "id": "bd20ebcb",
   "metadata": {},
   "source": [
    "## <center> Strings, Lists & Tuples"
   ]
  },
  {
   "cell_type": "markdown",
   "id": "b353ce34",
   "metadata": {},
   "source": [
    " ## STRINGS"
   ]
  },
  {
   "cell_type": "markdown",
   "id": "034d26e1",
   "metadata": {},
   "source": [
    "#### format()"
   ]
  },
  {
   "cell_type": "code",
   "execution_count": 1,
   "id": "c102321d",
   "metadata": {},
   "outputs": [
    {
     "name": "stdout",
     "output_type": "stream",
     "text": [
      "My name is Reshma, age is 25.\n"
     ]
    }
   ],
   "source": [
    "name=\"Reshma\"\n",
    "age=25\n",
    "txt=\"My name is {}, age is {}.\"\n",
    "print(txt.format(name,age))"
   ]
  },
  {
   "cell_type": "code",
   "execution_count": 2,
   "id": "ab831cca",
   "metadata": {},
   "outputs": [
    {
     "name": "stdout",
     "output_type": "stream",
     "text": [
      "My name is 25, age is Reshma.\n"
     ]
    }
   ],
   "source": [
    "#indexing in format\n",
    "txt1=\"My name is {1}, age is {0}.\"\n",
    "print(txt1.format(name,age))"
   ]
  },
  {
   "cell_type": "markdown",
   "id": "adab0e8e",
   "metadata": {},
   "source": [
    "#### input()"
   ]
  },
  {
   "cell_type": "code",
   "execution_count": 3,
   "id": "9ebf021c",
   "metadata": {},
   "outputs": [
    {
     "name": "stdout",
     "output_type": "stream",
     "text": [
      "Enter a name:Reshma\n",
      "Reshma\n"
     ]
    }
   ],
   "source": [
    "x=input('Enter a name:')\n",
    "print(x)"
   ]
  },
  {
   "cell_type": "code",
   "execution_count": 4,
   "id": "65ed050c",
   "metadata": {},
   "outputs": [
    {
     "name": "stdout",
     "output_type": "stream",
     "text": [
      "Enter a number:10000\n",
      "10000\n"
     ]
    }
   ],
   "source": [
    "y=int(input('Enter a number:'))\n",
    "print(y)"
   ]
  },
  {
   "cell_type": "code",
   "execution_count": 34,
   "id": "24eadb0f",
   "metadata": {},
   "outputs": [
    {
     "name": "stdout",
     "output_type": "stream",
     "text": [
      "Enter your name:Reshma \n",
      "Enter your age:25\n",
      "your name is Reshma  and age is 25\n"
     ]
    }
   ],
   "source": [
    "name=input(\"Enter your name:\")\n",
    "age=int(input('Enter your age:'))\n",
    "print(\"your name is {} and age is {}\".format(name,age))"
   ]
  },
  {
   "cell_type": "markdown",
   "id": "6c708adb",
   "metadata": {},
   "source": [
    "## LIST"
   ]
  },
  {
   "cell_type": "code",
   "execution_count": 5,
   "id": "c878bb5a",
   "metadata": {},
   "outputs": [
    {
     "name": "stdout",
     "output_type": "stream",
     "text": [
      "['a', 'b', 'c']\n",
      "[1, 2, 3, 4]\n",
      "[True, False]\n",
      "['a', 1, 2.4, True]\n"
     ]
    }
   ],
   "source": [
    "list1=['a','b','c']\n",
    "list2=[1,2,3,4]\n",
    "list3=[True,False]\n",
    "list4=['a',1,2.4,True]\n",
    "print(list1)\n",
    "print(list2)\n",
    "print(list3)\n",
    "print(list4)"
   ]
  },
  {
   "cell_type": "code",
   "execution_count": 6,
   "id": "8ad0caab",
   "metadata": {
    "scrolled": true
   },
   "outputs": [
    {
     "name": "stdout",
     "output_type": "stream",
     "text": [
      "3\n"
     ]
    }
   ],
   "source": [
    "print(len(list1)) #length of list"
   ]
  },
  {
   "cell_type": "code",
   "execution_count": 8,
   "id": "a025880e",
   "metadata": {},
   "outputs": [
    {
     "name": "stdout",
     "output_type": "stream",
     "text": [
      "a\n",
      "c\n",
      "2.4\n",
      "['a', 'b']\n"
     ]
    }
   ],
   "source": [
    "print(list1[0])\n",
    "print(list1[-1])\n",
    "print(list4[2])\n",
    "print(list1[0:2])"
   ]
  },
  {
   "cell_type": "code",
   "execution_count": 9,
   "id": "533d6759",
   "metadata": {},
   "outputs": [
    {
     "name": "stdout",
     "output_type": "stream",
     "text": [
      "['A', 'b', 'c']\n",
      "['A', 'B', 'C']\n"
     ]
    }
   ],
   "source": [
    "# list is changable\n",
    "list1[0]='A'\n",
    "print(list1)\n",
    "list1[1:]=['B','C']\n",
    "print(list1)"
   ]
  },
  {
   "cell_type": "code",
   "execution_count": 10,
   "id": "6dab2ed0",
   "metadata": {},
   "outputs": [
    {
     "name": "stdout",
     "output_type": "stream",
     "text": [
      "['A', 'B', 'C', 1, 2, 3, 4]\n"
     ]
    }
   ],
   "source": [
    "# add items\n",
    "list5=list1+list2\n",
    "print(list5)"
   ]
  },
  {
   "cell_type": "markdown",
   "id": "87f8f892",
   "metadata": {},
   "source": [
    "#### append()"
   ]
  },
  {
   "cell_type": "code",
   "execution_count": 11,
   "id": "99f9b784",
   "metadata": {},
   "outputs": [
    {
     "name": "stdout",
     "output_type": "stream",
     "text": [
      "['A', 'B', 'C', 'D']\n"
     ]
    }
   ],
   "source": [
    "# to add item to the end of the list\n",
    "list1.append('D')\n",
    "print(list1)"
   ]
  },
  {
   "cell_type": "markdown",
   "id": "6b59b446",
   "metadata": {},
   "source": [
    "#### extend()"
   ]
  },
  {
   "cell_type": "code",
   "execution_count": 12,
   "id": "151af329",
   "metadata": {},
   "outputs": [
    {
     "name": "stdout",
     "output_type": "stream",
     "text": [
      "['A', 'B', 'C', 'D', 'a', 1, 2.4, True]\n"
     ]
    }
   ],
   "source": [
    "#to extend the existing list\n",
    "list1.extend(list4)\n",
    "print(list1)"
   ]
  },
  {
   "cell_type": "markdown",
   "id": "efbe86ab",
   "metadata": {},
   "source": [
    "#### remove()"
   ]
  },
  {
   "cell_type": "code",
   "execution_count": 14,
   "id": "76378d8c",
   "metadata": {},
   "outputs": [
    {
     "name": "stdout",
     "output_type": "stream",
     "text": [
      "['A', 'B', 'D', 'a', 1, 2.4, True]\n"
     ]
    }
   ],
   "source": [
    "#to remove a particular item\n",
    "list1.remove('C')\n",
    "print(list1)"
   ]
  },
  {
   "cell_type": "markdown",
   "id": "38233af0",
   "metadata": {},
   "source": [
    "#### pop()"
   ]
  },
  {
   "cell_type": "code",
   "execution_count": 15,
   "id": "ee6e66c1",
   "metadata": {},
   "outputs": [
    {
     "name": "stdout",
     "output_type": "stream",
     "text": [
      "['A', 'D', 'a', 1, 2.4, True]\n",
      "['A', 'D', 'a', 1, 2.4]\n"
     ]
    }
   ],
   "source": [
    "# to remove an item from a particular position\n",
    "list1.pop(1)\n",
    "print(list1)\n",
    "list1.pop() #removes end item defaultly\n",
    "print(list1) "
   ]
  },
  {
   "cell_type": "markdown",
   "id": "bfd48d44",
   "metadata": {},
   "source": [
    "#### delete()"
   ]
  },
  {
   "cell_type": "code",
   "execution_count": 16,
   "id": "8a6141df",
   "metadata": {},
   "outputs": [
    {
     "name": "stdout",
     "output_type": "stream",
     "text": [
      "['D', 'a', 1, 2.4]\n"
     ]
    }
   ],
   "source": [
    "#delete first element in the list\n",
    "del list1[0]\n",
    "print(list1)"
   ]
  },
  {
   "cell_type": "markdown",
   "id": "4ac9d693",
   "metadata": {},
   "source": [
    "#### insert()"
   ]
  },
  {
   "cell_type": "code",
   "execution_count": 17,
   "id": "f2a1f3a9",
   "metadata": {},
   "outputs": [
    {
     "name": "stdout",
     "output_type": "stream",
     "text": [
      "['D', 'b', 'a', 1, 2.4]\n"
     ]
    }
   ],
   "source": [
    "# to insert an item to a specfic position\n",
    "list1.insert(1,'b')\n",
    "print(list1)"
   ]
  },
  {
   "cell_type": "markdown",
   "id": "1d40f952",
   "metadata": {},
   "source": [
    "#### clear()"
   ]
  },
  {
   "cell_type": "code",
   "execution_count": 18,
   "id": "30542bba",
   "metadata": {},
   "outputs": [
    {
     "name": "stdout",
     "output_type": "stream",
     "text": [
      "[]\n"
     ]
    }
   ],
   "source": [
    "# to make a list empty\n",
    "list1.clear()\n",
    "print(list1)"
   ]
  },
  {
   "cell_type": "code",
   "execution_count": 21,
   "id": "444d80a7",
   "metadata": {},
   "outputs": [],
   "source": [
    "del list2 # to delete a list"
   ]
  },
  {
   "cell_type": "markdown",
   "id": "e04752ed",
   "metadata": {},
   "source": [
    "## TUPLE"
   ]
  },
  {
   "cell_type": "code",
   "execution_count": 22,
   "id": "04071e48",
   "metadata": {},
   "outputs": [
    {
     "name": "stdout",
     "output_type": "stream",
     "text": [
      "(1, 2, 'a', 'b', 'c')\n",
      "<class 'tuple'>\n"
     ]
    }
   ],
   "source": [
    "a=(1,2,'a','b','c')\n",
    "print(a)\n",
    "print(type(a))"
   ]
  },
  {
   "cell_type": "code",
   "execution_count": 24,
   "id": "6986b370",
   "metadata": {},
   "outputs": [
    {
     "name": "stdout",
     "output_type": "stream",
     "text": [
      "<class 'tuple'>\n"
     ]
    }
   ],
   "source": [
    "b=('a',)\n",
    "print(type(b))"
   ]
  },
  {
   "cell_type": "code",
   "execution_count": 25,
   "id": "7c76c92b",
   "metadata": {},
   "outputs": [
    {
     "name": "stdout",
     "output_type": "stream",
     "text": [
      "5\n"
     ]
    }
   ],
   "source": [
    "print(len(a))"
   ]
  },
  {
   "cell_type": "code",
   "execution_count": 28,
   "id": "fa7b523e",
   "metadata": {},
   "outputs": [
    {
     "name": "stdout",
     "output_type": "stream",
     "text": [
      "2\n",
      "b\n"
     ]
    }
   ],
   "source": [
    "print(a[1])\n",
    "print(a[-2])"
   ]
  },
  {
   "cell_type": "code",
   "execution_count": 30,
   "id": "00a0393c",
   "metadata": {},
   "outputs": [
    {
     "name": "stdout",
     "output_type": "stream",
     "text": [
      "[1, 2, 'a', 'b', 'c']\n"
     ]
    }
   ],
   "source": [
    "# tuple is unchangable. To make any changes in the tuple first we need to convert tuple into a list\n",
    "c=list(a)\n",
    "print(c)"
   ]
  },
  {
   "cell_type": "code",
   "execution_count": 31,
   "id": "32471e3e",
   "metadata": {},
   "outputs": [
    {
     "name": "stdout",
     "output_type": "stream",
     "text": [
      "['d', 2, 'a', 'b', 'c']\n",
      "('d', 2, 'a', 'b', 'c')\n"
     ]
    }
   ],
   "source": [
    "c[0]='d'\n",
    "print(c)\n",
    "a=tuple(c)\n",
    "print(a)"
   ]
  },
  {
   "cell_type": "code",
   "execution_count": 32,
   "id": "9d20d104",
   "metadata": {},
   "outputs": [
    {
     "data": {
      "text/plain": [
       "('d', 2, 'a', 'b', 'c', 'a')"
      ]
     },
     "execution_count": 32,
     "metadata": {},
     "output_type": "execute_result"
    }
   ],
   "source": [
    "# adding tuples\n",
    "a+b"
   ]
  },
  {
   "cell_type": "code",
   "execution_count": null,
   "id": "819d66d1",
   "metadata": {},
   "outputs": [],
   "source": []
  }
 ],
 "metadata": {
  "kernelspec": {
   "display_name": "Python 3 (ipykernel)",
   "language": "python",
   "name": "python3"
  },
  "language_info": {
   "codemirror_mode": {
    "name": "ipython",
    "version": 3
   },
   "file_extension": ".py",
   "mimetype": "text/x-python",
   "name": "python",
   "nbconvert_exporter": "python",
   "pygments_lexer": "ipython3",
   "version": "3.9.13"
  }
 },
 "nbformat": 4,
 "nbformat_minor": 5
}
