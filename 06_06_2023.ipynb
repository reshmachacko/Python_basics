{
 "cells": [
  {
   "cell_type": "markdown",
   "id": "fac3bc47",
   "metadata": {},
   "source": [
    "## List"
   ]
  },
  {
   "cell_type": "code",
   "execution_count": 1,
   "id": "aae7de6d",
   "metadata": {},
   "outputs": [],
   "source": [
    "a=['Apple','Orange','Grape']"
   ]
  },
  {
   "cell_type": "markdown",
   "id": "6960b490",
   "metadata": {},
   "source": [
    "#### print the second item"
   ]
  },
  {
   "cell_type": "code",
   "execution_count": 2,
   "id": "3f5c03fc",
   "metadata": {},
   "outputs": [
    {
     "data": {
      "text/plain": [
       "'Orange'"
      ]
     },
     "execution_count": 2,
     "metadata": {},
     "output_type": "execute_result"
    }
   ],
   "source": [
    "a[1]"
   ]
  },
  {
   "cell_type": "markdown",
   "id": "aa58fafe",
   "metadata": {},
   "source": [
    "#### change apple to lemon"
   ]
  },
  {
   "cell_type": "code",
   "execution_count": 8,
   "id": "12859c57",
   "metadata": {},
   "outputs": [
    {
     "name": "stdout",
     "output_type": "stream",
     "text": [
      "['Lemon', 'Orange', 'Grape']\n"
     ]
    }
   ],
   "source": [
    "a[0]='Lemon'\n",
    "print(a)"
   ]
  },
  {
   "cell_type": "markdown",
   "id": "adfbd2a0",
   "metadata": {},
   "source": [
    "#### add watermelon to the list"
   ]
  },
  {
   "cell_type": "code",
   "execution_count": 9,
   "id": "64c3576d",
   "metadata": {
    "scrolled": true
   },
   "outputs": [
    {
     "name": "stdout",
     "output_type": "stream",
     "text": [
      "['Lemon', 'Orange', 'Grape', 'Water melon']\n"
     ]
    }
   ],
   "source": [
    "a.append('Water melon')\n",
    "print(a)"
   ]
  },
  {
   "cell_type": "markdown",
   "id": "508cfd53",
   "metadata": {},
   "source": [
    "#### remove orange"
   ]
  },
  {
   "cell_type": "code",
   "execution_count": 10,
   "id": "5a6107bf",
   "metadata": {},
   "outputs": [
    {
     "name": "stdout",
     "output_type": "stream",
     "text": [
      "['Lemon', 'Grape', 'Water melon']\n"
     ]
    }
   ],
   "source": [
    "a.remove('Orange')\n",
    "print(a)"
   ]
  },
  {
   "cell_type": "markdown",
   "id": "b7882af4",
   "metadata": {},
   "source": [
    "#### print the last item"
   ]
  },
  {
   "cell_type": "code",
   "execution_count": 11,
   "id": "14470156",
   "metadata": {},
   "outputs": [
    {
     "data": {
      "text/plain": [
       "'Water melon'"
      ]
     },
     "execution_count": 11,
     "metadata": {},
     "output_type": "execute_result"
    }
   ],
   "source": [
    "a[-1]"
   ]
  },
  {
   "cell_type": "markdown",
   "id": "885d8fdb",
   "metadata": {},
   "source": [
    "#### print first and second items"
   ]
  },
  {
   "cell_type": "code",
   "execution_count": 12,
   "id": "c1306297",
   "metadata": {},
   "outputs": [
    {
     "data": {
      "text/plain": [
       "['Lemon', 'Grape']"
      ]
     },
     "execution_count": 12,
     "metadata": {},
     "output_type": "execute_result"
    }
   ],
   "source": [
    "a[:2]"
   ]
  },
  {
   "cell_type": "markdown",
   "id": "67c4ba21",
   "metadata": {},
   "source": [
    "#### print number of items"
   ]
  },
  {
   "cell_type": "code",
   "execution_count": 13,
   "id": "e47ecb71",
   "metadata": {},
   "outputs": [
    {
     "data": {
      "text/plain": [
       "3"
      ]
     },
     "execution_count": 13,
     "metadata": {},
     "output_type": "execute_result"
    }
   ],
   "source": [
    "len(a)"
   ]
  },
  {
   "cell_type": "markdown",
   "id": "cdfcbad8",
   "metadata": {},
   "source": [
    "## Conditional statements"
   ]
  },
  {
   "cell_type": "markdown",
   "id": "11e5791c",
   "metadata": {},
   "source": [
    "### if "
   ]
  },
  {
   "cell_type": "code",
   "execution_count": 14,
   "id": "115df116",
   "metadata": {},
   "outputs": [
    {
     "name": "stdout",
     "output_type": "stream",
     "text": [
      "b is greater than a\n"
     ]
    }
   ],
   "source": [
    "a=5\n",
    "b=10\n",
    "if b>a:\n",
    "    print('b is greater than a')"
   ]
  },
  {
   "cell_type": "markdown",
   "id": "9b983620",
   "metadata": {},
   "source": [
    "### elif"
   ]
  },
  {
   "cell_type": "code",
   "execution_count": 15,
   "id": "bec3f2ca",
   "metadata": {},
   "outputs": [
    {
     "name": "stdout",
     "output_type": "stream",
     "text": [
      "Enter a number:1000\n",
      "Enter a number:41587\n",
      "b is greater than a\n"
     ]
    }
   ],
   "source": [
    "a=int(input('Enter a number:'))\n",
    "b=int(input('Enter a number:'))\n",
    "if a>b:\n",
    "    print('a is greater than b')\n",
    "elif a<b:\n",
    "    print('b is greater than a')\n",
    "elif a==b:\n",
    "    print('a is equal to b')\n",
    "else:\n",
    "    print('No matching result')"
   ]
  },
  {
   "cell_type": "markdown",
   "id": "02e45dfd",
   "metadata": {},
   "source": [
    "### nested if"
   ]
  },
  {
   "cell_type": "code",
   "execution_count": 18,
   "id": "5c15a07d",
   "metadata": {},
   "outputs": [
    {
     "name": "stdout",
     "output_type": "stream",
     "text": [
      "10\n"
     ]
    }
   ],
   "source": [
    "x=10\n",
    "if x<40:\n",
    "    if x>5:\n",
    "        print(x)"
   ]
  },
  {
   "cell_type": "markdown",
   "id": "b35db631",
   "metadata": {},
   "source": [
    "## Logical operators"
   ]
  },
  {
   "cell_type": "code",
   "execution_count": 19,
   "id": "8f2984a2",
   "metadata": {},
   "outputs": [
    {
     "data": {
      "text/plain": [
       "False"
      ]
     },
     "execution_count": 19,
     "metadata": {},
     "output_type": "execute_result"
    }
   ],
   "source": [
    "x=5\n",
    "x<10 and x>5"
   ]
  },
  {
   "cell_type": "code",
   "execution_count": 20,
   "id": "c92405a5",
   "metadata": {},
   "outputs": [
    {
     "data": {
      "text/plain": [
       "True"
      ]
     },
     "execution_count": 20,
     "metadata": {},
     "output_type": "execute_result"
    }
   ],
   "source": [
    "x<10 or x<5"
   ]
  },
  {
   "cell_type": "code",
   "execution_count": 21,
   "id": "ea632f68",
   "metadata": {},
   "outputs": [
    {
     "data": {
      "text/plain": [
       "False"
      ]
     },
     "execution_count": 21,
     "metadata": {},
     "output_type": "execute_result"
    }
   ],
   "source": [
    "not(x<10 or x<5)"
   ]
  },
  {
   "cell_type": "code",
   "execution_count": 22,
   "id": "dcd9d5b0",
   "metadata": {},
   "outputs": [],
   "source": [
    "if a>b or a>10:\n",
    "    pass"
   ]
  },
  {
   "cell_type": "markdown",
   "id": "f012e0a6",
   "metadata": {},
   "source": [
    "## Loop Conditions"
   ]
  },
  {
   "cell_type": "markdown",
   "id": "5bcda0f8",
   "metadata": {},
   "source": [
    "### while loop"
   ]
  },
  {
   "cell_type": "code",
   "execution_count": 3,
   "id": "ab4262da",
   "metadata": {},
   "outputs": [
    {
     "name": "stdout",
     "output_type": "stream",
     "text": [
      "1\n",
      "2\n",
      "3\n",
      "4\n",
      "5\n"
     ]
    }
   ],
   "source": [
    "i=1\n",
    "while i < 6:\n",
    "    print(i)\n",
    "    i+=1"
   ]
  },
  {
   "cell_type": "markdown",
   "id": "7ca861bc",
   "metadata": {},
   "source": [
    "#### break "
   ]
  },
  {
   "cell_type": "code",
   "execution_count": 4,
   "id": "a51906f8",
   "metadata": {},
   "outputs": [
    {
     "name": "stdout",
     "output_type": "stream",
     "text": [
      "1\n",
      "2\n",
      "3\n"
     ]
    }
   ],
   "source": [
    "i=1\n",
    "while i < 6:\n",
    "    print(i)\n",
    "    if i==3:\n",
    "        break\n",
    "    i+=1"
   ]
  },
  {
   "cell_type": "markdown",
   "id": "b37f5fb7",
   "metadata": {},
   "source": [
    "### for loop"
   ]
  },
  {
   "cell_type": "code",
   "execution_count": 5,
   "id": "329b40ad",
   "metadata": {},
   "outputs": [
    {
     "name": "stdout",
     "output_type": "stream",
     "text": [
      "0\n",
      "1\n",
      "2\n",
      "3\n",
      "4\n",
      "5\n"
     ]
    }
   ],
   "source": [
    "for i in range(6):\n",
    "    print(i)"
   ]
  },
  {
   "cell_type": "code",
   "execution_count": 6,
   "id": "4170c588",
   "metadata": {},
   "outputs": [
    {
     "name": "stdout",
     "output_type": "stream",
     "text": [
      "1\n",
      "3\n",
      "5\n"
     ]
    }
   ],
   "source": [
    "for i in range(1,6,2):\n",
    "    print(i)"
   ]
  },
  {
   "cell_type": "markdown",
   "id": "6af40290",
   "metadata": {},
   "source": [
    "## PROGRAMMING QUESTION ANSWERS"
   ]
  },
  {
   "cell_type": "markdown",
   "id": "3eafa108",
   "metadata": {},
   "source": [
    "#### 1. WAP to check whether a number entered by user is even or odd"
   ]
  },
  {
   "cell_type": "code",
   "execution_count": 23,
   "id": "2642e179",
   "metadata": {},
   "outputs": [
    {
     "name": "stdout",
     "output_type": "stream",
     "text": [
      "Enter a number:44\n",
      "44 is even\n"
     ]
    }
   ],
   "source": [
    "a=int(input(\"Enter a number:\"))\n",
    "if a%2==0:\n",
    "    print(a,\"is even\")\n",
    "else:\n",
    "    print(a,\"is odd\")"
   ]
  },
  {
   "cell_type": "markdown",
   "id": "38b13450",
   "metadata": {},
   "source": [
    "#### 2. WAP to check whether a person is eligible to vote or not"
   ]
  },
  {
   "cell_type": "code",
   "execution_count": 24,
   "id": "49f5be52",
   "metadata": {},
   "outputs": [
    {
     "name": "stdout",
     "output_type": "stream",
     "text": [
      "Enter age:18\n",
      "Eligible\n"
     ]
    }
   ],
   "source": [
    "age=int(input(\"Enter age:\"))\n",
    "if age>=18:\n",
    "    print(\"Eligible\")\n",
    "else:\n",
    "    print(\"Not eligible\")"
   ]
  },
  {
   "cell_type": "markdown",
   "id": "164d5c02",
   "metadata": {},
   "source": [
    "#### 3. WAP to check whether a number is divisible by 7 or not"
   ]
  },
  {
   "cell_type": "code",
   "execution_count": 26,
   "id": "e03ef63c",
   "metadata": {},
   "outputs": [
    {
     "name": "stdout",
     "output_type": "stream",
     "text": [
      "Enter a number:12457\n",
      "not divisible by 7\n"
     ]
    }
   ],
   "source": [
    "n=int(input(\"Enter a number:\"))\n",
    "if n%7==0:\n",
    "    print(\"divisible by 7\")\n",
    "else:\n",
    "    print(\"not divisible by 7\")"
   ]
  },
  {
   "cell_type": "markdown",
   "id": "e7d5954a",
   "metadata": {},
   "source": [
    "#### 4. WAP to display 'hello' if a number entered by user is a multiple of 5., othervise print 'bye'"
   ]
  },
  {
   "cell_type": "code",
   "execution_count": 27,
   "id": "9361456f",
   "metadata": {},
   "outputs": [
    {
     "name": "stdout",
     "output_type": "stream",
     "text": [
      "enter a number:365\n",
      "Hello\n"
     ]
    }
   ],
   "source": [
    "n=int(input(\"enter a number:\"))\n",
    "if n%5==0:\n",
    "    print(\"Hello\")\n",
    "else:\n",
    "    print(\"Bye\")"
   ]
  },
  {
   "cell_type": "markdown",
   "id": "3e0cfac8",
   "metadata": {},
   "source": [
    "#### 5.WAP to accept percentage from user & display the grade according to the following criteria"
   ]
  },
  {
   "cell_type": "code",
   "execution_count": 29,
   "id": "66715e40",
   "metadata": {},
   "outputs": [
    {
     "name": "stdout",
     "output_type": "stream",
     "text": [
      "enter marks in percentage:90\n",
      "B grade\n"
     ]
    }
   ],
   "source": [
    "P=int(input(\"enter marks in percentage:\"))\n",
    "if P>90:\n",
    "    print(\"A grade\")\n",
    "elif P<=90 & P>80:\n",
    "    print(\"B grade\")\n",
    "elif P<=80 & P>=60:\n",
    "    print(\"C grade\")\n",
    "else:\n",
    "    print(\"D grade\")"
   ]
  },
  {
   "cell_type": "markdown",
   "id": "4a2e6586",
   "metadata": {},
   "source": [
    "#### 6. wap to display the last digit of a number"
   ]
  },
  {
   "cell_type": "code",
   "execution_count": 1,
   "id": "ba5576a4",
   "metadata": {},
   "outputs": [
    {
     "name": "stdout",
     "output_type": "stream",
     "text": [
      "Enter a number:897\n",
      "7\n"
     ]
    }
   ],
   "source": [
    "n=int(input(\"Enter a number:\"))\n",
    "print(n%10)"
   ]
  },
  {
   "cell_type": "markdown",
   "id": "6cf007cb",
   "metadata": {},
   "source": [
    "#### 7. WAP to check whether the last digit of number is divisible by 3 or not"
   ]
  },
  {
   "cell_type": "code",
   "execution_count": 4,
   "id": "87fc0cfb",
   "metadata": {},
   "outputs": [
    {
     "name": "stdout",
     "output_type": "stream",
     "text": [
      "Enter a number:87600\n",
      "last digit is divisible by 3\n"
     ]
    }
   ],
   "source": [
    "n=int(input(\"Enter a number:\"))\n",
    "if (n%10)%3==0:\n",
    "    print(\"last digit is divisible by 3\")\n",
    "else:\n",
    "    print('not divisible')"
   ]
  },
  {
   "cell_type": "markdown",
   "id": "c010c9b3",
   "metadata": {},
   "source": [
    "#### 8. print the first 10 natural numbers using for loop"
   ]
  },
  {
   "cell_type": "code",
   "execution_count": 5,
   "id": "5e23dadb",
   "metadata": {},
   "outputs": [
    {
     "name": "stdout",
     "output_type": "stream",
     "text": [
      "1\n",
      "2\n",
      "3\n",
      "4\n",
      "5\n",
      "6\n",
      "7\n",
      "8\n",
      "9\n",
      "10\n"
     ]
    }
   ],
   "source": [
    "for i in range(1,11):\n",
    "    print(i)"
   ]
  },
  {
   "cell_type": "code",
   "execution_count": 6,
   "id": "f9753a45",
   "metadata": {},
   "outputs": [
    {
     "name": "stdout",
     "output_type": "stream",
     "text": [
      "1\n",
      "2\n",
      "3\n",
      "4\n",
      "5\n",
      "6\n",
      "7\n",
      "8\n",
      "9\n",
      "10\n"
     ]
    }
   ],
   "source": [
    "i=1\n",
    "while i<11:\n",
    "    print(i)\n",
    "    i+=1"
   ]
  },
  {
   "cell_type": "markdown",
   "id": "8a207988",
   "metadata": {},
   "source": [
    "#### 9. print all even numbers upto 20"
   ]
  },
  {
   "cell_type": "code",
   "execution_count": 7,
   "id": "ad1f1525",
   "metadata": {},
   "outputs": [
    {
     "name": "stdout",
     "output_type": "stream",
     "text": [
      "2\n",
      "4\n",
      "6\n",
      "8\n",
      "10\n",
      "12\n",
      "14\n",
      "16\n",
      "18\n",
      "20\n"
     ]
    }
   ],
   "source": [
    "for i in range(2,21,2):\n",
    "    print(i)"
   ]
  },
  {
   "cell_type": "code",
   "execution_count": 8,
   "id": "87fdcdbd",
   "metadata": {},
   "outputs": [
    {
     "name": "stdout",
     "output_type": "stream",
     "text": [
      "2\n",
      "4\n",
      "6\n",
      "8\n",
      "10\n",
      "12\n",
      "14\n",
      "16\n",
      "18\n",
      "20\n"
     ]
    }
   ],
   "source": [
    "for i in range(2,21):\n",
    "    if i%2==0:\n",
    "        print(i)"
   ]
  },
  {
   "cell_type": "markdown",
   "id": "013ee885",
   "metadata": {},
   "source": [
    "#### 10. print all odd numbers upto 10"
   ]
  },
  {
   "cell_type": "code",
   "execution_count": 9,
   "id": "ac527577",
   "metadata": {},
   "outputs": [
    {
     "name": "stdout",
     "output_type": "stream",
     "text": [
      "1\n",
      "3\n",
      "5\n",
      "7\n",
      "9\n"
     ]
    }
   ],
   "source": [
    "for i in range(10):\n",
    "    if i%2!=0:\n",
    "        print(i)"
   ]
  },
  {
   "cell_type": "code",
   "execution_count": 10,
   "id": "1f49bf02",
   "metadata": {},
   "outputs": [
    {
     "name": "stdout",
     "output_type": "stream",
     "text": [
      "1\n",
      "3\n",
      "5\n",
      "7\n",
      "9\n"
     ]
    }
   ],
   "source": [
    "for i in range(1,10,2):\n",
    "    print(i)"
   ]
  },
  {
   "cell_type": "markdown",
   "id": "4bd5c69e",
   "metadata": {},
   "source": [
    "#### 11. calculate the sum of all numbers from 1 to 10"
   ]
  },
  {
   "cell_type": "code",
   "execution_count": 12,
   "id": "f273f9d7",
   "metadata": {},
   "outputs": [
    {
     "name": "stdout",
     "output_type": "stream",
     "text": [
      "55\n"
     ]
    }
   ],
   "source": [
    "s=0\n",
    "for i in range(1,11):\n",
    "    s+=i\n",
    "print(s)"
   ]
  },
  {
   "cell_type": "markdown",
   "id": "b261c6f6",
   "metadata": {},
   "source": [
    "#### 12. print sum of all numbers"
   ]
  },
  {
   "cell_type": "code",
   "execution_count": 13,
   "id": "11c44f81",
   "metadata": {},
   "outputs": [
    {
     "name": "stdout",
     "output_type": "stream",
     "text": [
      "Enter a number for range:15\n",
      "49\n"
     ]
    }
   ],
   "source": [
    "r=int(input(\"Enter a number for range:\"))\n",
    "s=0\n",
    "for i in range(r):\n",
    "    if i%2!=0:\n",
    "        s+=i\n",
    "print(s)"
   ]
  },
  {
   "cell_type": "markdown",
   "id": "9068b373",
   "metadata": {},
   "source": [
    "#### 13. print the multiplication table of a given number"
   ]
  },
  {
   "cell_type": "code",
   "execution_count": 14,
   "id": "4b465c0a",
   "metadata": {},
   "outputs": [
    {
     "name": "stdout",
     "output_type": "stream",
     "text": [
      "Enter a number:7\n",
      "1 * 7 = 7\n",
      "2 * 7 = 14\n",
      "3 * 7 = 21\n",
      "4 * 7 = 28\n",
      "5 * 7 = 35\n",
      "6 * 7 = 42\n",
      "7 * 7 = 49\n",
      "8 * 7 = 56\n",
      "9 * 7 = 63\n",
      "10 * 7 = 70\n"
     ]
    }
   ],
   "source": [
    "a=int(input(\"Enter a number:\"))\n",
    "for i in range(1,11):\n",
    "    print(i,'*',a,'=',a*i)"
   ]
  },
  {
   "cell_type": "markdown",
   "id": "528a68e5",
   "metadata": {},
   "source": [
    "#### 14. print the characters in a string"
   ]
  },
  {
   "cell_type": "code",
   "execution_count": 15,
   "id": "cbf608e6",
   "metadata": {},
   "outputs": [
    {
     "name": "stdout",
     "output_type": "stream",
     "text": [
      "H\n",
      "e\n",
      "l\n",
      "l\n",
      "o\n"
     ]
    }
   ],
   "source": [
    "a='Hello'\n",
    "for i in a:\n",
    "    print(i)"
   ]
  },
  {
   "cell_type": "code",
   "execution_count": 16,
   "id": "b21e409d",
   "metadata": {},
   "outputs": [
    {
     "name": "stdout",
     "output_type": "stream",
     "text": [
      "H\n",
      "e\n",
      "l\n",
      "l\n",
      "o\n"
     ]
    }
   ],
   "source": [
    "for i in range(len(a)):\n",
    "    print(a[i])"
   ]
  },
  {
   "cell_type": "markdown",
   "id": "0d8117d0",
   "metadata": {},
   "source": [
    "#### 15. print the characters from a string that are present at an even index"
   ]
  },
  {
   "cell_type": "code",
   "execution_count": 19,
   "id": "9095bb34",
   "metadata": {},
   "outputs": [
    {
     "name": "stdout",
     "output_type": "stream",
     "text": [
      "Enter a string:python is powerfull\n",
      "t\n",
      "o\n",
      " \n",
      "s\n",
      "p\n",
      "w\n",
      "r\n",
      "u\n",
      "l\n"
     ]
    }
   ],
   "source": [
    "str=input(\"Enter a string:\")\n",
    "for i in range(2,len(str)):\n",
    "    if i%2==0:\n",
    "        print(str[i])"
   ]
  },
  {
   "cell_type": "code",
   "execution_count": null,
   "id": "80708d02",
   "metadata": {},
   "outputs": [],
   "source": []
  },
  {
   "cell_type": "code",
   "execution_count": null,
   "id": "24fdd1f6",
   "metadata": {},
   "outputs": [],
   "source": []
  }
 ],
 "metadata": {
  "kernelspec": {
   "display_name": "Python 3 (ipykernel)",
   "language": "python",
   "name": "python3"
  },
  "language_info": {
   "codemirror_mode": {
    "name": "ipython",
    "version": 3
   },
   "file_extension": ".py",
   "mimetype": "text/x-python",
   "name": "python",
   "nbconvert_exporter": "python",
   "pygments_lexer": "ipython3",
   "version": "3.9.13"
  }
 },
 "nbformat": 4,
 "nbformat_minor": 5
}
